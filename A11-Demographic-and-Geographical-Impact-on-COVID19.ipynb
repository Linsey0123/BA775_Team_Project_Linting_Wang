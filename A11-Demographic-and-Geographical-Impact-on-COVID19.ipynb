{
 "cells": [
  {
   "cell_type": "markdown",
   "id": "fcb7d1e5-e929-42d6-ac2f-f7a350700a1a",
   "metadata": {},
   "source": [
    "# Demographic & Geographical Impact on Covid-19"
   ]
  },
  {
   "cell_type": "markdown",
   "id": "161e6c1c-6a04-4d48-9634-fbf619c130ab",
   "metadata": {},
   "source": [
    "#### Data Source\n",
    "##### The dataset analyzed in this project was publicly retrieved from Kaggle.\n",
    "##### Link:https://www.kaggle.com/code/aestheteaman01/demographics-observation-for-pandemic-escalation/data \n",
    "#### Group Members\n",
    "##### Abdullah Aljarallah, Arushi Pathik, Ashley Mercado, Jay Chaudhary, Linting(Linsey) Wang, Vibhas Goel"
   ]
  },
  {
   "cell_type": "markdown",
   "id": "311576cb-cebb-415e-8d29-b50e63436bda",
   "metadata": {},
   "source": [
    "### Content\n",
    "\n",
    "#### 1. Executive Summary\n",
    "#### 2. Problem Statement\n",
    "#### 3. Dataset Description & Analysis\n",
    "#### 4. Conclusion\n",
    "#### 5. References"
   ]
  },
  {
   "cell_type": "markdown",
   "id": "7d3e0d69-d544-43c4-a0b7-36411adaa421",
   "metadata": {},
   "source": [
    "### 1. Executive Summary\n",
    "\n",
    "This project aims to dive into the demographic and geological factors that have a massive impact on the spread of COVID-19. Weather (Temperature), age, and medical resources are crucial in the overall data analysis. We aim to find out crucial parameters that impacted the covid spread. To achieve this goal, we found some relevant datasets from Kaggle, and the period of these datasets is from January to April 2020. We chose the following six countries on different continents: India, Mexico, Italy, Argentina, South Korea, and Germany.\n",
    "\n",
    "First, we looked at the covid overview worldwide and combined the temperature with the case number. Then, we analyzed the relationship between the case number and several possible influence factors, such as age, travel policy, available medical resources, and wind speed. And precipitation. We also compared mental health and anxiety within different lockdown policies to determine which strategy is more beneficial for society. \n"
   ]
  },
  {
   "cell_type": "markdown",
   "id": "8c09f26e-88aa-4045-a7b5-cdc637f23873",
   "metadata": {
    "tags": []
   },
   "source": [
    "### 2. Problem Statement\n",
    "\n",
    "The world is still tackling the COVID-19 pandemic. Over the past two years, the pandemic has impacted every industry, with healthcare at the forefront. It prompts us to examine the world’s healthcare system, evaluating the ultimate question of “are we pandemic ready?”.\n",
    "The pandemic has left grave marks on the public’s mental health quotient and anxiety levels, leading to PTSD and even depression. This project aims to dive deeply into how the demographical and geological parameters affected the pandemic’s spread across the globe. Since COVID-19 affected the public’s health in every manner, the motivation behind this project boils down to the crux of the problem. With mental health, anxiety, and depression being talked about the most today, we believed that choosing the COVID-19 pandemic’s impact on overall health was a crucial topic to tackle.\n",
    "\n",
    "In this project, we will use a publicly available dataset from Kaggle, which analyzes COVID cases across the world with geographical & demographic factors and how it impacts the public’s health.\n"
   ]
  },
  {
   "cell_type": "markdown",
   "id": "f02702ea-2e1d-4bf9-b1d9-f07bc7871554",
   "metadata": {},
   "source": [
    "### 3. Data Description & Analysis"
   ]
  },
  {
   "cell_type": "markdown",
   "id": "15d86aaa-5c3d-4887-ac0a-ac3587fcd449",
   "metadata": {},
   "source": [
    "#### 3.1 Dataset Description\n",
    "\n",
    "The files contain details on the COVID-19 cases and fatalities in numerous nations between January and March 2020. The dataset contains the details listed below:\n",
    "\n",
    "- The worldwide daily reported and cumulative cases number for all countries, including confirmed, fatalities, and recovery.\n",
    "- The day's average, minimum and maximum temperatures in each country.\n",
    "- Population, density, and median population figures for that nation.\n",
    "- The country's gender ratio, % of the population is over 65.\n",
    "- Hospital Beds and Available Patients per 1000 Hospital Beds\n",
    "- Travel within the nation: domestic, international, and outbound.\n"
   ]
  },
  {
   "cell_type": "markdown",
   "id": "a885168b-d2cf-4256-b8bb-54cbb7e91d7f",
   "metadata": {},
   "source": [
    "#### 3.2 Dataset Analysis"
   ]
  },
  {
   "cell_type": "markdown",
   "id": "60fff1c9-1706-4a3c-b439-847bfeb95d08",
   "metadata": {},
   "source": [
    "**The top 5 countries with maximum Covid cases as of June 6th 2020**"
   ]
  },
  {
   "cell_type": "code",
   "execution_count": 5,
   "id": "1aeff89e-25c6-4428-bd17-452217c9360c",
   "metadata": {},
   "outputs": [
    {
     "name": "stderr",
     "output_type": "stream",
     "text": [
      "Query complete after 0.00s: 100%|██████████| 1/1 [00:00<00:00, 595.11query/s] \n",
      "Downloading: 100%|██████████| 5/5 [00:03<00:00,  1.32rows/s]\n"
     ]
    },
    {
     "data": {
      "text/html": [
       "<div>\n",
       "<style scoped>\n",
       "    .dataframe tbody tr th:only-of-type {\n",
       "        vertical-align: middle;\n",
       "    }\n",
       "\n",
       "    .dataframe tbody tr th {\n",
       "        vertical-align: top;\n",
       "    }\n",
       "\n",
       "    .dataframe thead th {\n",
       "        text-align: right;\n",
       "    }\n",
       "</style>\n",
       "<table border=\"1\" class=\"dataframe\">\n",
       "  <thead>\n",
       "    <tr style=\"text-align: right;\">\n",
       "      <th></th>\n",
       "      <th>TotalCases</th>\n",
       "      <th>Country</th>\n",
       "    </tr>\n",
       "  </thead>\n",
       "  <tbody>\n",
       "    <tr>\n",
       "      <th>0</th>\n",
       "      <td>67630796.0</td>\n",
       "      <td>US</td>\n",
       "    </tr>\n",
       "    <tr>\n",
       "      <th>1</th>\n",
       "      <td>13438736.0</td>\n",
       "      <td>Spain</td>\n",
       "    </tr>\n",
       "    <tr>\n",
       "      <th>2</th>\n",
       "      <td>13287673.0</td>\n",
       "      <td>Italy</td>\n",
       "    </tr>\n",
       "    <tr>\n",
       "      <th>3</th>\n",
       "      <td>10790367.0</td>\n",
       "      <td>UK</td>\n",
       "    </tr>\n",
       "    <tr>\n",
       "      <th>4</th>\n",
       "      <td>10143091.0</td>\n",
       "      <td>Germany</td>\n",
       "    </tr>\n",
       "  </tbody>\n",
       "</table>\n",
       "</div>"
      ],
      "text/plain": [
       "   TotalCases  Country\n",
       "0  67630796.0       US\n",
       "1  13438736.0    Spain\n",
       "2  13287673.0    Italy\n",
       "3  10790367.0       UK\n",
       "4  10143091.0  Germany"
      ]
     },
     "execution_count": 5,
     "metadata": {},
     "output_type": "execute_result"
    }
   ],
   "source": [
    "%%bigquery\n",
    "SELECT sum(confirmed) as TotalCases, Country_Region as Country\n",
    "\n",
    " FROM `ba775-fal22-a11.CountryCovid.Covid_19_dataset` \n",
    " group by Country_Region\n",
    " order by sum(confirmed) desc\n",
    " limit 5"
   ]
  },
  {
   "cell_type": "markdown",
   "id": "659c6e60-7816-4f7b-82a8-3d3cfdb4d09e",
   "metadata": {},
   "source": [
    "After the initial analysis, we can deduce that the United States (US) has the highest number of cases globally. This conclusion is based on the period between January and June 2020.\n",
    "\n",
    "The US is the only non-European country in the top 5. Europe later emerges as the epicenter of the virus spread. This spike is constant throughout the dataset across the European regions and USA."
   ]
  },
  {
   "cell_type": "markdown",
   "id": "df833cda-7cea-459f-91fd-179f97a3d95b",
   "metadata": {},
   "source": [
    "**Cases number in US, India and New Zealand**"
   ]
  },
  {
   "cell_type": "code",
   "execution_count": 11,
   "id": "98d42cb0-e493-40af-a2a2-741ab9596fbb",
   "metadata": {},
   "outputs": [
    {
     "name": "stderr",
     "output_type": "stream",
     "text": [
      "Query complete after 0.00s: 100%|██████████| 3/3 [00:00<00:00, 1599.25query/s]                        \n",
      "Downloading: 100%|██████████| 3/3 [00:02<00:00,  1.46rows/s]\n"
     ]
    },
    {
     "data": {
      "text/html": [
       "<div>\n",
       "<style scoped>\n",
       "    .dataframe tbody tr th:only-of-type {\n",
       "        vertical-align: middle;\n",
       "    }\n",
       "\n",
       "    .dataframe tbody tr th {\n",
       "        vertical-align: top;\n",
       "    }\n",
       "\n",
       "    .dataframe thead th {\n",
       "        text-align: right;\n",
       "    }\n",
       "</style>\n",
       "<table border=\"1\" class=\"dataframe\">\n",
       "  <thead>\n",
       "    <tr style=\"text-align: right;\">\n",
       "      <th></th>\n",
       "      <th>TotalCases</th>\n",
       "      <th>Country</th>\n",
       "    </tr>\n",
       "  </thead>\n",
       "  <tbody>\n",
       "    <tr>\n",
       "      <th>0</th>\n",
       "      <td>67630796</td>\n",
       "      <td>US</td>\n",
       "    </tr>\n",
       "    <tr>\n",
       "      <th>1</th>\n",
       "      <td>3744809</td>\n",
       "      <td>India</td>\n",
       "    </tr>\n",
       "    <tr>\n",
       "      <th>2</th>\n",
       "      <td>90431</td>\n",
       "      <td>New Zealand</td>\n",
       "    </tr>\n",
       "  </tbody>\n",
       "</table>\n",
       "</div>"
      ],
      "text/plain": [
       "   TotalCases      Country\n",
       "0    67630796           US\n",
       "1     3744809        India\n",
       "2       90431  New Zealand"
      ]
     },
     "execution_count": 11,
     "metadata": {},
     "output_type": "execute_result"
    }
   ],
   "source": [
    "%%bigquery\n",
    "SELECT cast(sum(confirmed) as int)/ as TotalCases, Country_Region as Country\n",
    "\n",
    " FROM `ba775-fal22-a11.CountryCovid.Covid_19_dataset` \n",
    "    \n",
    "    where Country_Region in ('India','New Zealand','US')\n",
    " group by Country_Region\n",
    " order by sum(confirmed) desc"
   ]
  },
  {
   "cell_type": "markdown",
   "id": "211ff22f-31b6-4b5e-9231-4a97a1e96b0b",
   "metadata": {},
   "source": [
    "We have chosen these 3 countries based on the stringency of the lockdown imposed in the respective countries. US didnt have hat many travel restrictions hence the high number of cases in the initial days of covid. India and New-Zealand had imposed stricter guidelines of lockdown hence have less number of cases"
   ]
  },
  {
   "cell_type": "markdown",
   "id": "28e1e76f-29ad-415a-9688-0c31788752ff",
   "metadata": {},
   "source": [
    "**Progression of Covid by Date**"
   ]
  },
  {
   "cell_type": "code",
   "execution_count": 12,
   "id": "25dc0d4b-b1e3-4466-8ce9-c8c87bcc7d7c",
   "metadata": {},
   "outputs": [
    {
     "name": "stderr",
     "output_type": "stream",
     "text": [
      "Query complete after 0.00s: 100%|██████████| 4/4 [00:00<00:00, 1478.95query/s]                        \n",
      "Downloading: 100%|██████████| 132/132 [00:02<00:00, 61.89rows/s]\n"
     ]
    },
    {
     "data": {
      "text/html": [
       "<div>\n",
       "<style scoped>\n",
       "    .dataframe tbody tr th:only-of-type {\n",
       "        vertical-align: middle;\n",
       "    }\n",
       "\n",
       "    .dataframe tbody tr th {\n",
       "        vertical-align: top;\n",
       "    }\n",
       "\n",
       "    .dataframe thead th {\n",
       "        text-align: right;\n",
       "    }\n",
       "</style>\n",
       "<table border=\"1\" class=\"dataframe\">\n",
       "  <thead>\n",
       "    <tr style=\"text-align: right;\">\n",
       "      <th></th>\n",
       "      <th>ObservationDate</th>\n",
       "      <th>TotalCases</th>\n",
       "      <th>Cumulative_Total_Cases</th>\n",
       "    </tr>\n",
       "  </thead>\n",
       "  <tbody>\n",
       "    <tr>\n",
       "      <th>0</th>\n",
       "      <td>2020-01-22</td>\n",
       "      <td>555.0</td>\n",
       "      <td>555.0</td>\n",
       "    </tr>\n",
       "    <tr>\n",
       "      <th>1</th>\n",
       "      <td>2020-01-23</td>\n",
       "      <td>653.0</td>\n",
       "      <td>1208.0</td>\n",
       "    </tr>\n",
       "    <tr>\n",
       "      <th>2</th>\n",
       "      <td>2020-01-24</td>\n",
       "      <td>941.0</td>\n",
       "      <td>2149.0</td>\n",
       "    </tr>\n",
       "    <tr>\n",
       "      <th>3</th>\n",
       "      <td>2020-01-25</td>\n",
       "      <td>1438.0</td>\n",
       "      <td>3587.0</td>\n",
       "    </tr>\n",
       "    <tr>\n",
       "      <th>4</th>\n",
       "      <td>2020-01-26</td>\n",
       "      <td>2118.0</td>\n",
       "      <td>5705.0</td>\n",
       "    </tr>\n",
       "    <tr>\n",
       "      <th>...</th>\n",
       "      <td>...</td>\n",
       "      <td>...</td>\n",
       "      <td>...</td>\n",
       "    </tr>\n",
       "    <tr>\n",
       "      <th>127</th>\n",
       "      <td>2020-05-28</td>\n",
       "      <td>5808946.0</td>\n",
       "      <td>200627379.0</td>\n",
       "    </tr>\n",
       "    <tr>\n",
       "      <th>128</th>\n",
       "      <td>2020-05-29</td>\n",
       "      <td>5924275.0</td>\n",
       "      <td>206551654.0</td>\n",
       "    </tr>\n",
       "    <tr>\n",
       "      <th>129</th>\n",
       "      <td>2020-05-30</td>\n",
       "      <td>6059017.0</td>\n",
       "      <td>212610671.0</td>\n",
       "    </tr>\n",
       "    <tr>\n",
       "      <th>130</th>\n",
       "      <td>2020-05-31</td>\n",
       "      <td>6166946.0</td>\n",
       "      <td>218777617.0</td>\n",
       "    </tr>\n",
       "    <tr>\n",
       "      <th>131</th>\n",
       "      <td>2020-06-01</td>\n",
       "      <td>6266192.0</td>\n",
       "      <td>225043809.0</td>\n",
       "    </tr>\n",
       "  </tbody>\n",
       "</table>\n",
       "<p>132 rows × 3 columns</p>\n",
       "</div>"
      ],
      "text/plain": [
       "    ObservationDate  TotalCases  Cumulative_Total_Cases\n",
       "0        2020-01-22       555.0                   555.0\n",
       "1        2020-01-23       653.0                  1208.0\n",
       "2        2020-01-24       941.0                  2149.0\n",
       "3        2020-01-25      1438.0                  3587.0\n",
       "4        2020-01-26      2118.0                  5705.0\n",
       "..              ...         ...                     ...\n",
       "127      2020-05-28   5808946.0             200627379.0\n",
       "128      2020-05-29   5924275.0             206551654.0\n",
       "129      2020-05-30   6059017.0             212610671.0\n",
       "130      2020-05-31   6166946.0             218777617.0\n",
       "131      2020-06-01   6266192.0             225043809.0\n",
       "\n",
       "[132 rows x 3 columns]"
      ]
     },
     "execution_count": 12,
     "metadata": {},
     "output_type": "execute_result"
    }
   ],
   "source": [
    "%%bigquery\n",
    "SELECT  ObservationDate\n",
    ",sum(confirmed) as TotalCases,\n",
    "sum(sum(confirmed)) over (order by ObservationDate) Cumulative_Total_Cases\n",
    "\n",
    " FROM `ba775-fal22-a11.CountryCovid.Covid_19_dataset` \n",
    " group by ObservationDate\n",
    " order by ObservationDate"
   ]
  },
  {
   "cell_type": "markdown",
   "id": "c655549e-d46b-4e1d-ba60-2d7621f09e4b",
   "metadata": {},
   "source": [
    "On further analysis of the spread of the virus concerning the date, we have a clear result of the sudden spike in the number of Covid cases throughout the world.\n",
    "\n",
    "Hence, we will further explore the spread of cases across the world through visualization in the coming phase of this project."
   ]
  },
  {
   "cell_type": "code",
   "execution_count": 4,
   "id": "8c9dc1ac-18f5-4e4f-852e-7bcdb3a4374f",
   "metadata": {},
   "outputs": [
    {
     "name": "stderr",
     "output_type": "stream",
     "text": [
      "Query complete after 0.00s: 100%|██████████| 3/3 [00:00<00:00, 1253.65query/s]                        \n",
      "Downloading: 100%|██████████| 76/76 [00:02<00:00, 35.16rows/s]\n"
     ]
    },
    {
     "data": {
      "text/html": [
       "<div>\n",
       "<style scoped>\n",
       "    .dataframe tbody tr th:only-of-type {\n",
       "        vertical-align: middle;\n",
       "    }\n",
       "\n",
       "    .dataframe tbody tr th {\n",
       "        vertical-align: top;\n",
       "    }\n",
       "\n",
       "    .dataframe thead th {\n",
       "        text-align: right;\n",
       "    }\n",
       "</style>\n",
       "<table border=\"1\" class=\"dataframe\">\n",
       "  <thead>\n",
       "    <tr style=\"text-align: right;\">\n",
       "      <th></th>\n",
       "      <th>ObservationDate</th>\n",
       "      <th>Daily_Total_Cases</th>\n",
       "      <th>Cumulative_Total_Cases</th>\n",
       "    </tr>\n",
       "  </thead>\n",
       "  <tbody>\n",
       "    <tr>\n",
       "      <th>0</th>\n",
       "      <td>2020-03-18</td>\n",
       "      <td>214915.0</td>\n",
       "      <td>4041239.0</td>\n",
       "    </tr>\n",
       "    <tr>\n",
       "      <th>1</th>\n",
       "      <td>2020-03-19</td>\n",
       "      <td>242713.0</td>\n",
       "      <td>4283952.0</td>\n",
       "    </tr>\n",
       "    <tr>\n",
       "      <th>2</th>\n",
       "      <td>2020-03-20</td>\n",
       "      <td>272167.0</td>\n",
       "      <td>4556119.0</td>\n",
       "    </tr>\n",
       "    <tr>\n",
       "      <th>3</th>\n",
       "      <td>2020-03-21</td>\n",
       "      <td>304549.0</td>\n",
       "      <td>4860668.0</td>\n",
       "    </tr>\n",
       "    <tr>\n",
       "      <th>4</th>\n",
       "      <td>2020-03-22</td>\n",
       "      <td>337122.0</td>\n",
       "      <td>5197790.0</td>\n",
       "    </tr>\n",
       "    <tr>\n",
       "      <th>...</th>\n",
       "      <td>...</td>\n",
       "      <td>...</td>\n",
       "      <td>...</td>\n",
       "    </tr>\n",
       "    <tr>\n",
       "      <th>71</th>\n",
       "      <td>2020-05-28</td>\n",
       "      <td>5808946.0</td>\n",
       "      <td>200627379.0</td>\n",
       "    </tr>\n",
       "    <tr>\n",
       "      <th>72</th>\n",
       "      <td>2020-05-29</td>\n",
       "      <td>5924275.0</td>\n",
       "      <td>206551654.0</td>\n",
       "    </tr>\n",
       "    <tr>\n",
       "      <th>73</th>\n",
       "      <td>2020-05-30</td>\n",
       "      <td>6059017.0</td>\n",
       "      <td>212610671.0</td>\n",
       "    </tr>\n",
       "    <tr>\n",
       "      <th>74</th>\n",
       "      <td>2020-05-31</td>\n",
       "      <td>6166946.0</td>\n",
       "      <td>218777617.0</td>\n",
       "    </tr>\n",
       "    <tr>\n",
       "      <th>75</th>\n",
       "      <td>2020-06-01</td>\n",
       "      <td>6266192.0</td>\n",
       "      <td>225043809.0</td>\n",
       "    </tr>\n",
       "  </tbody>\n",
       "</table>\n",
       "<p>76 rows × 3 columns</p>\n",
       "</div>"
      ],
      "text/plain": [
       "   ObservationDate  Daily_Total_Cases  Cumulative_Total_Cases\n",
       "0       2020-03-18           214915.0               4041239.0\n",
       "1       2020-03-19           242713.0               4283952.0\n",
       "2       2020-03-20           272167.0               4556119.0\n",
       "3       2020-03-21           304549.0               4860668.0\n",
       "4       2020-03-22           337122.0               5197790.0\n",
       "..             ...                ...                     ...\n",
       "71      2020-05-28          5808946.0             200627379.0\n",
       "72      2020-05-29          5924275.0             206551654.0\n",
       "73      2020-05-30          6059017.0             212610671.0\n",
       "74      2020-05-31          6166946.0             218777617.0\n",
       "75      2020-06-01          6266192.0             225043809.0\n",
       "\n",
       "[76 rows x 3 columns]"
      ]
     },
     "execution_count": 4,
     "metadata": {},
     "output_type": "execute_result"
    }
   ],
   "source": [
    "%%bigquery\n",
    "with CovidProgression as\n",
    "(SELECT  ObservationDate\n",
    ",sum(confirmed) as Daily_Total_Cases,\n",
    "sum(sum(confirmed)) over (order by ObservationDate) Cumulative_Total_Cases\n",
    " FROM `ba775-fal22-a11.CountryCovid.Covid_19_dataset` \n",
    " group by ObservationDate\n",
    " order by ObservationDate )\n",
    "\n",
    "select * from CovidProgression where Daily_Total_Cases >200000\n"
   ]
  },
  {
   "cell_type": "markdown",
   "id": "5ccd973a-9263-4c9e-a7f6-6f449d1c0e9a",
   "metadata": {},
   "source": [
    "The Daily_Total_Cases column is the daily confirmed cases in all countries; this indicator can show the spread speed of Covid with time worldwide. The Cumulative_Total_Cases column is the total confirmed cases in all countries from 2022.01.22 to each day, and this number can show us the overall situation of Covid.\n",
    "We can see that after 56 days(2020.01.22 - 2020.03.18) of reporting the first-ever covid case in the world, the total daily cases crossed the 200,000 mark. After arriving at this number, the covid progression was relatively fast, and the cases began increasing rapidly."
   ]
  },
  {
   "cell_type": "markdown",
   "id": "557c6d4b-88a7-46e9-b326-4c002e2686b0",
   "metadata": {},
   "source": [
    "**Covid Recoveries by Date**"
   ]
  },
  {
   "cell_type": "code",
   "execution_count": 2,
   "id": "722f7ba3-3186-4a1f-8080-573153dabfc0",
   "metadata": {},
   "outputs": [
    {
     "name": "stderr",
     "output_type": "stream",
     "text": [
      "Query complete after 0.00s: 100%|██████████| 3/3 [00:00<00:00, 1330.26query/s]                        \n",
      "Downloading: 100%|██████████| 10/10 [00:02<00:00,  4.47rows/s]\n"
     ]
    },
    {
     "data": {
      "text/html": [
       "<div>\n",
       "<style scoped>\n",
       "    .dataframe tbody tr th:only-of-type {\n",
       "        vertical-align: middle;\n",
       "    }\n",
       "\n",
       "    .dataframe tbody tr th {\n",
       "        vertical-align: top;\n",
       "    }\n",
       "\n",
       "    .dataframe thead th {\n",
       "        text-align: right;\n",
       "    }\n",
       "</style>\n",
       "<table border=\"1\" class=\"dataframe\">\n",
       "  <thead>\n",
       "    <tr style=\"text-align: right;\">\n",
       "      <th></th>\n",
       "      <th>ObservationDate</th>\n",
       "      <th>TotalRecoveries</th>\n",
       "      <th>Cumulative_Total_Recoveries</th>\n",
       "    </tr>\n",
       "  </thead>\n",
       "  <tbody>\n",
       "    <tr>\n",
       "      <th>0</th>\n",
       "      <td>2020-01-22</td>\n",
       "      <td>28.0</td>\n",
       "      <td>28.0</td>\n",
       "    </tr>\n",
       "    <tr>\n",
       "      <th>1</th>\n",
       "      <td>2020-01-23</td>\n",
       "      <td>30.0</td>\n",
       "      <td>58.0</td>\n",
       "    </tr>\n",
       "    <tr>\n",
       "      <th>2</th>\n",
       "      <td>2020-01-24</td>\n",
       "      <td>36.0</td>\n",
       "      <td>94.0</td>\n",
       "    </tr>\n",
       "    <tr>\n",
       "      <th>3</th>\n",
       "      <td>2020-01-25</td>\n",
       "      <td>39.0</td>\n",
       "      <td>133.0</td>\n",
       "    </tr>\n",
       "    <tr>\n",
       "      <th>4</th>\n",
       "      <td>2020-01-26</td>\n",
       "      <td>52.0</td>\n",
       "      <td>185.0</td>\n",
       "    </tr>\n",
       "    <tr>\n",
       "      <th>5</th>\n",
       "      <td>2020-01-27</td>\n",
       "      <td>61.0</td>\n",
       "      <td>246.0</td>\n",
       "    </tr>\n",
       "    <tr>\n",
       "      <th>6</th>\n",
       "      <td>2020-01-28</td>\n",
       "      <td>107.0</td>\n",
       "      <td>353.0</td>\n",
       "    </tr>\n",
       "    <tr>\n",
       "      <th>7</th>\n",
       "      <td>2020-01-29</td>\n",
       "      <td>126.0</td>\n",
       "      <td>479.0</td>\n",
       "    </tr>\n",
       "    <tr>\n",
       "      <th>8</th>\n",
       "      <td>2020-01-30</td>\n",
       "      <td>143.0</td>\n",
       "      <td>622.0</td>\n",
       "    </tr>\n",
       "    <tr>\n",
       "      <th>9</th>\n",
       "      <td>2020-01-31</td>\n",
       "      <td>222.0</td>\n",
       "      <td>844.0</td>\n",
       "    </tr>\n",
       "  </tbody>\n",
       "</table>\n",
       "</div>"
      ],
      "text/plain": [
       "  ObservationDate  TotalRecoveries  Cumulative_Total_Recoveries\n",
       "0      2020-01-22             28.0                         28.0\n",
       "1      2020-01-23             30.0                         58.0\n",
       "2      2020-01-24             36.0                         94.0\n",
       "3      2020-01-25             39.0                        133.0\n",
       "4      2020-01-26             52.0                        185.0\n",
       "5      2020-01-27             61.0                        246.0\n",
       "6      2020-01-28            107.0                        353.0\n",
       "7      2020-01-29            126.0                        479.0\n",
       "8      2020-01-30            143.0                        622.0\n",
       "9      2020-01-31            222.0                        844.0"
      ]
     },
     "execution_count": 2,
     "metadata": {},
     "output_type": "execute_result"
    }
   ],
   "source": [
    "%%bigquery\n",
    "SELECT  ObservationDate\n",
    ",sum(Recovered) as TotalRecoveries,\n",
    "sum(sum(Recovered)) over (order by ObservationDate) Cumulative_Total_Recoveries\n",
    " FROM `ba775-fal22-a11.CountryCovid.Covid_19_dataset` \n",
    " group by ObservationDate\n",
    " order by ObservationDate \n",
    "Limit 10"
   ]
  },
  {
   "cell_type": "markdown",
   "id": "b79f41cb-459f-40f4-bb61-19d614ef8a82",
   "metadata": {},
   "source": [
    "The above table shows the total recoveries from COVID-19 as a cumulative sum progressing by date. The final observation was roughly 2.7 million COVID-19 recoveries from the analyzed dataset. "
   ]
  },
  {
   "cell_type": "markdown",
   "id": "adb10b4d-96d5-4826-b55c-1f215f27bbb7",
   "metadata": {},
   "source": [
    "**Covid Deaths by Date**"
   ]
  },
  {
   "cell_type": "code",
   "execution_count": 3,
   "id": "46b8f4cc-8e42-4530-bb45-96f20b7c1d41",
   "metadata": {},
   "outputs": [
    {
     "name": "stderr",
     "output_type": "stream",
     "text": [
      "Query complete after 0.00s: 100%|██████████| 3/3 [00:00<00:00, 1345.33query/s]                        \n",
      "Downloading: 100%|██████████| 10/10 [00:02<00:00,  4.51rows/s]\n"
     ]
    },
    {
     "data": {
      "text/html": [
       "<div>\n",
       "<style scoped>\n",
       "    .dataframe tbody tr th:only-of-type {\n",
       "        vertical-align: middle;\n",
       "    }\n",
       "\n",
       "    .dataframe tbody tr th {\n",
       "        vertical-align: top;\n",
       "    }\n",
       "\n",
       "    .dataframe thead th {\n",
       "        text-align: right;\n",
       "    }\n",
       "</style>\n",
       "<table border=\"1\" class=\"dataframe\">\n",
       "  <thead>\n",
       "    <tr style=\"text-align: right;\">\n",
       "      <th></th>\n",
       "      <th>ObservationDate</th>\n",
       "      <th>TotalDeaths</th>\n",
       "      <th>Cumulative_Total_Deaths</th>\n",
       "    </tr>\n",
       "  </thead>\n",
       "  <tbody>\n",
       "    <tr>\n",
       "      <th>0</th>\n",
       "      <td>2020-01-22</td>\n",
       "      <td>17.0</td>\n",
       "      <td>17.0</td>\n",
       "    </tr>\n",
       "    <tr>\n",
       "      <th>1</th>\n",
       "      <td>2020-01-23</td>\n",
       "      <td>18.0</td>\n",
       "      <td>35.0</td>\n",
       "    </tr>\n",
       "    <tr>\n",
       "      <th>2</th>\n",
       "      <td>2020-01-24</td>\n",
       "      <td>26.0</td>\n",
       "      <td>61.0</td>\n",
       "    </tr>\n",
       "    <tr>\n",
       "      <th>3</th>\n",
       "      <td>2020-01-25</td>\n",
       "      <td>42.0</td>\n",
       "      <td>103.0</td>\n",
       "    </tr>\n",
       "    <tr>\n",
       "      <th>4</th>\n",
       "      <td>2020-01-26</td>\n",
       "      <td>56.0</td>\n",
       "      <td>159.0</td>\n",
       "    </tr>\n",
       "    <tr>\n",
       "      <th>5</th>\n",
       "      <td>2020-01-27</td>\n",
       "      <td>82.0</td>\n",
       "      <td>241.0</td>\n",
       "    </tr>\n",
       "    <tr>\n",
       "      <th>6</th>\n",
       "      <td>2020-01-28</td>\n",
       "      <td>131.0</td>\n",
       "      <td>372.0</td>\n",
       "    </tr>\n",
       "    <tr>\n",
       "      <th>7</th>\n",
       "      <td>2020-01-29</td>\n",
       "      <td>133.0</td>\n",
       "      <td>505.0</td>\n",
       "    </tr>\n",
       "    <tr>\n",
       "      <th>8</th>\n",
       "      <td>2020-01-30</td>\n",
       "      <td>171.0</td>\n",
       "      <td>676.0</td>\n",
       "    </tr>\n",
       "    <tr>\n",
       "      <th>9</th>\n",
       "      <td>2020-01-31</td>\n",
       "      <td>213.0</td>\n",
       "      <td>889.0</td>\n",
       "    </tr>\n",
       "  </tbody>\n",
       "</table>\n",
       "</div>"
      ],
      "text/plain": [
       "  ObservationDate  TotalDeaths  Cumulative_Total_Deaths\n",
       "0      2020-01-22         17.0                     17.0\n",
       "1      2020-01-23         18.0                     35.0\n",
       "2      2020-01-24         26.0                     61.0\n",
       "3      2020-01-25         42.0                    103.0\n",
       "4      2020-01-26         56.0                    159.0\n",
       "5      2020-01-27         82.0                    241.0\n",
       "6      2020-01-28        131.0                    372.0\n",
       "7      2020-01-29        133.0                    505.0\n",
       "8      2020-01-30        171.0                    676.0\n",
       "9      2020-01-31        213.0                    889.0"
      ]
     },
     "execution_count": 3,
     "metadata": {},
     "output_type": "execute_result"
    }
   ],
   "source": [
    "%%bigquery\n",
    "SELECT  ObservationDate\n",
    ",sum(Deaths) as TotalDeaths,\n",
    "sum(sum(Deaths)) over (order by ObservationDate) Cumulative_Total_Deaths\n",
    " FROM `ba775-fal22-a11.CountryCovid.Covid_19_dataset` \n",
    " group by ObservationDate\n",
    " order by ObservationDate \n",
    "Limit 10"
   ]
  },
  {
   "cell_type": "markdown",
   "id": "4cbfc30e-77c5-4954-b3a1-8d4aaef10217",
   "metadata": {},
   "source": [
    "The above table shows the total cumulative deaths during the period and dataset we analyzed. The final amount of deaths was 375,559. "
   ]
  },
  {
   "cell_type": "markdown",
   "id": "7cb280eb-a50f-4df2-ac8d-4d76821f6e1f",
   "metadata": {},
   "source": [
    "<iframe src=\"https://streamable.com/e/uo2ir4\" frameborder=\"0\" width=\"100%\" height=\"100%\" style=\"width:100%;height:100%;position:absolute;left:0px;top:0px;overflow:hidden;\"></iframe>"
   ]
  },
  {
   "cell_type": "code",
   "execution_count": 7,
   "id": "5ed7052a-de53-4e41-acb2-5edf77551e7e",
   "metadata": {},
   "outputs": [
    {
     "data": {
      "text/html": [
       "<div style=\"width:100%;height:0px;position:relative;padding-bottom:68.702%;\"><iframe src=\"https://streamable.com/e/uo2ir4\" frameborder=\"0\" width=\"100%\" height=\"100%\" allowfullscreen style=\"width:100%;height:100%;position:absolute;left:0px;top:0px;overflow:hidden;\"></iframe></div>"
      ],
      "text/plain": [
       "<IPython.core.display.HTML object>"
      ]
     },
     "execution_count": 7,
     "metadata": {},
     "output_type": "execute_result"
    }
   ],
   "source": [
    "from IPython.display import HTML\n",
    "HTML('<div style=\"width:100%;height:0px;position:relative;padding-bottom:68.702%;\"><iframe src=\"https://streamable.com/e/uo2ir4\" frameborder=\"0\" width=\"100%\" height=\"100%\" allowfullscreen style=\"width:100%;height:100%;position:absolute;left:0px;top:0px;overflow:hidden;\"></iframe></div>')"
   ]
  },
  {
   "cell_type": "markdown",
   "id": "947819bf-87d7-43fe-8bdd-0c5187490729",
   "metadata": {},
   "source": [
    "The above video is a snippet of the moving map visual we cretaed to depict spread of cases with respect to time on daily basis. This is a visual depiction of how cases first came in China, spreaded to Europe and finally exploded in US during the initial stage of infection spread."
   ]
  },
  {
   "cell_type": "markdown",
   "id": "0d986eb8-f4b0-47eb-9211-f9fe5e98f1e3",
   "metadata": {},
   "source": [
    "#### Analysing 6 countries for covid progression: India, Mexico, Argentina, South Korea, Italy, and Germany"
   ]
  },
  {
   "cell_type": "markdown",
   "id": "1980c27a-10bb-421e-8ea4-bae49720a986",
   "metadata": {},
   "source": [
    "**Age**"
   ]
  },
  {
   "cell_type": "code",
   "execution_count": 34,
   "id": "df58b163-b560-4988-81f9-f129f4a5a959",
   "metadata": {},
   "outputs": [
    {
     "name": "stderr",
     "output_type": "stream",
     "text": [
      "Query complete after 0.00s: 100%|██████████| 3/3 [00:00<00:00, 958.84query/s]                         \n",
      "Downloading: 100%|██████████| 6/6 [00:02<00:00,  2.50rows/s]\n"
     ]
    },
    {
     "data": {
      "text/html": [
       "<div>\n",
       "<style scoped>\n",
       "    .dataframe tbody tr th:only-of-type {\n",
       "        vertical-align: middle;\n",
       "    }\n",
       "\n",
       "    .dataframe tbody tr th {\n",
       "        vertical-align: top;\n",
       "    }\n",
       "\n",
       "    .dataframe thead th {\n",
       "        text-align: right;\n",
       "    }\n",
       "</style>\n",
       "<table border=\"1\" class=\"dataframe\">\n",
       "  <thead>\n",
       "    <tr style=\"text-align: right;\">\n",
       "      <th></th>\n",
       "      <th>Country</th>\n",
       "      <th>sum_of_daily_cases</th>\n",
       "      <th>PercentAbove65</th>\n",
       "      <th>median_age</th>\n",
       "    </tr>\n",
       "  </thead>\n",
       "  <tbody>\n",
       "    <tr>\n",
       "      <th>0</th>\n",
       "      <td>India</td>\n",
       "      <td>1251</td>\n",
       "      <td>6.39</td>\n",
       "      <td>28.0</td>\n",
       "    </tr>\n",
       "    <tr>\n",
       "      <th>1</th>\n",
       "      <td>Mexico</td>\n",
       "      <td>993</td>\n",
       "      <td>7.26</td>\n",
       "      <td>29.0</td>\n",
       "    </tr>\n",
       "    <tr>\n",
       "      <th>2</th>\n",
       "      <td>Argentina</td>\n",
       "      <td>820</td>\n",
       "      <td>11.79</td>\n",
       "      <td>32.0</td>\n",
       "    </tr>\n",
       "    <tr>\n",
       "      <th>3</th>\n",
       "      <td>South Korea</td>\n",
       "      <td>9660</td>\n",
       "      <td>14.55</td>\n",
       "      <td>44.0</td>\n",
       "    </tr>\n",
       "    <tr>\n",
       "      <th>4</th>\n",
       "      <td>Italy</td>\n",
       "      <td>101739</td>\n",
       "      <td>21.69</td>\n",
       "      <td>47.0</td>\n",
       "    </tr>\n",
       "    <tr>\n",
       "      <th>5</th>\n",
       "      <td>Germany</td>\n",
       "      <td>66885</td>\n",
       "      <td>22.36</td>\n",
       "      <td>46.0</td>\n",
       "    </tr>\n",
       "  </tbody>\n",
       "</table>\n",
       "</div>"
      ],
      "text/plain": [
       "       Country  sum_of_daily_cases  PercentAbove65  median_age\n",
       "0        India                1251            6.39        28.0\n",
       "1       Mexico                 993            7.26        29.0\n",
       "2    Argentina                 820           11.79        32.0\n",
       "3  South Korea                9660           14.55        44.0\n",
       "4        Italy              101739           21.69        47.0\n",
       "5      Germany               66885           22.36        46.0"
      ]
     },
     "execution_count": 34,
     "metadata": {},
     "output_type": "execute_result"
    }
   ],
   "source": [
    "%%bigquery\n",
    "SELECT  Country,sum(Daily_cases) AS sum_of_daily_cases, Age__65_ as PercentAbove65, AVG(Median_Age) AS median_age FROM `ba775-fal22-a11.CountryCovid.6countries`\n",
    "group by Age__65_,Country\n",
    "order by Age__65_,sum(Daily_cases) desc\n"
   ]
  },
  {
   "cell_type": "markdown",
   "id": "25cf6b07-ef10-4718-b298-e8c7b60421be",
   "metadata": {},
   "source": [
    "As a country's median age increase, the number of covid cases increases proportionally. There is almost a perfect correlation (99.18%) between the elderly population percentage, 65+, and the percentage of positive cases in the same age group. These findings highlight that the elderly population has the highest mortality rate."
   ]
  },
  {
   "cell_type": "markdown",
   "id": "a5336ece-9e23-494f-8d8e-97b7c93bdd7f",
   "metadata": {},
   "source": [
    "<img src=\"https://i.ibb.co/yyHkzLd/AgevsCas.png\" alt=\"AgevsCas\" border=\"0\" width=300 />"
   ]
  },
  {
   "cell_type": "markdown",
   "id": "2ab00eb3-c74f-449a-8c19-873a9097ae2a",
   "metadata": {},
   "source": [
    "**Temperature**"
   ]
  },
  {
   "cell_type": "code",
   "execution_count": 4,
   "id": "c54b6630-4f6b-4cc4-9d1f-b3c8808986f5",
   "metadata": {},
   "outputs": [
    {
     "name": "stderr",
     "output_type": "stream",
     "text": [
      "Query complete after 0.00s: 100%|██████████| 3/3 [00:00<00:00, 1047.18query/s]                        \n",
      "Downloading: 100%|██████████| 8/8 [00:01<00:00,  4.11rows/s]\n"
     ]
    },
    {
     "data": {
      "text/html": [
       "<div>\n",
       "<style scoped>\n",
       "    .dataframe tbody tr th:only-of-type {\n",
       "        vertical-align: middle;\n",
       "    }\n",
       "\n",
       "    .dataframe tbody tr th {\n",
       "        vertical-align: top;\n",
       "    }\n",
       "\n",
       "    .dataframe thead th {\n",
       "        text-align: right;\n",
       "    }\n",
       "</style>\n",
       "<table border=\"1\" class=\"dataframe\">\n",
       "  <thead>\n",
       "    <tr style=\"text-align: right;\">\n",
       "      <th></th>\n",
       "      <th>temp_group</th>\n",
       "      <th>sum_of_daily_cases</th>\n",
       "    </tr>\n",
       "  </thead>\n",
       "  <tbody>\n",
       "    <tr>\n",
       "      <th>0</th>\n",
       "      <td>0 to 10</td>\n",
       "      <td>406759</td>\n",
       "    </tr>\n",
       "    <tr>\n",
       "      <th>1</th>\n",
       "      <td>10 to 20</td>\n",
       "      <td>277264</td>\n",
       "    </tr>\n",
       "    <tr>\n",
       "      <th>2</th>\n",
       "      <td>20 to 30</td>\n",
       "      <td>46114</td>\n",
       "    </tr>\n",
       "    <tr>\n",
       "      <th>3</th>\n",
       "      <td>-10 to 0</td>\n",
       "      <td>44109</td>\n",
       "    </tr>\n",
       "    <tr>\n",
       "      <th>4</th>\n",
       "      <td>30 to 40</td>\n",
       "      <td>4610</td>\n",
       "    </tr>\n",
       "    <tr>\n",
       "      <th>5</th>\n",
       "      <td>-20 to -10</td>\n",
       "      <td>2424</td>\n",
       "    </tr>\n",
       "    <tr>\n",
       "      <th>6</th>\n",
       "      <td>-30 to -20</td>\n",
       "      <td>303</td>\n",
       "    </tr>\n",
       "    <tr>\n",
       "      <th>7</th>\n",
       "      <td>-40 to -30</td>\n",
       "      <td>0</td>\n",
       "    </tr>\n",
       "  </tbody>\n",
       "</table>\n",
       "</div>"
      ],
      "text/plain": [
       "   temp_group  sum_of_daily_cases\n",
       "0     0 to 10              406759\n",
       "1    10 to 20              277264\n",
       "2    20 to 30               46114\n",
       "3    -10 to 0               44109\n",
       "4    30 to 40                4610\n",
       "5  -20 to -10                2424\n",
       "6  -30 to -20                 303\n",
       "7  -40 to -30                   0"
      ]
     },
     "execution_count": 4,
     "metadata": {},
     "output_type": "execute_result"
    }
   ],
   "source": [
    "%%bigquery\n",
    "SELECT \n",
    "CASE\n",
    "WHEN Temperature >=-40 AND Temperature <-30 THEN '-40 to -30' \n",
    "WHEN Temperature >=-30 AND Temperature <-20 THEN '-30 to -20'\n",
    "WHEN Temperature >=-20 AND Temperature <-10 THEN '-20 to -10' \n",
    "WHEN Temperature >=-10 AND Temperature <0 THEN '-10 to 0'\n",
    "WHEN Temperature >=0 AND Temperature <10 THEN '0 to 10'\n",
    "WHEN Temperature >=10 AND Temperature <20 THEN '10 to 20'\n",
    "WHEN Temperature >=20 AND Temperature <30 THEN '20 to 30'\n",
    "WHEN Temperature >=30 AND Temperature <40 THEN '30 to 40'\n",
    "--WHEN Temperature >=80 AND Temperature <90 THEN '80~89'\n",
    "--WHEN Temperature >=90 AND Temperature <100 THEN '90~99'\n",
    "END AS temp_group,\n",
    "sum(Daily_cases) AS sum_of_daily_cases\n",
    "\n",
    "\n",
    "FROM `ba775-fal22-a11.Weather_Data.Temperature` \n",
    "WHERE Temperature IS NOT NULL\n",
    "GROUP BY temp_group \n",
    "ORDER BY sum(Daily_cases) desc"
   ]
  },
  {
   "cell_type": "markdown",
   "id": "b1c51792-06a7-4705-8e33-7f8dc5f83406",
   "metadata": {},
   "source": [
    "After analyzing the spread via Temperature, we see that the vast majority, 88%, of daily cases occur in locations where the Temperature ranges from 0-20 degrees Celsius. When the Temperature drops below 0°, daily cases decrease significantly."
   ]
  },
  {
   "cell_type": "markdown",
   "id": "fef8e92a-5368-4532-8211-76182bbc8d46",
   "metadata": {},
   "source": [
    "<img src=\"https://i.postimg.cc/vZxjZs3h/Tempvs-Cases.png\" alt=\"Tempvs-Cases\"  height=400 border=\"0\" />\n"
   ]
  },
  {
   "cell_type": "markdown",
   "id": "190e1b12-2774-44a2-afc5-81e6f99c3116",
   "metadata": {},
   "source": [
    "**Travel Policy**"
   ]
  },
  {
   "cell_type": "code",
   "execution_count": 4,
   "id": "0039e9da-8228-4563-aa89-ec3d40bc4ceb",
   "metadata": {
    "tags": []
   },
   "outputs": [
    {
     "name": "stderr",
     "output_type": "stream",
     "text": [
      "Query complete after 0.00s: 100%|██████████| 3/3 [00:00<00:00, 1522.43query/s]                        \n",
      "Downloading: 100%|██████████| 6/6 [00:02<00:00,  2.05rows/s]\n"
     ]
    },
    {
     "data": {
      "text/html": [
       "<div>\n",
       "<style scoped>\n",
       "    .dataframe tbody tr th:only-of-type {\n",
       "        vertical-align: middle;\n",
       "    }\n",
       "\n",
       "    .dataframe tbody tr th {\n",
       "        vertical-align: top;\n",
       "    }\n",
       "\n",
       "    .dataframe thead th {\n",
       "        text-align: right;\n",
       "    }\n",
       "</style>\n",
       "<table border=\"1\" class=\"dataframe\">\n",
       "  <thead>\n",
       "    <tr style=\"text-align: right;\">\n",
       "      <th></th>\n",
       "      <th>country</th>\n",
       "      <th>in_travel</th>\n",
       "      <th>out_travel</th>\n",
       "      <th>domestic_travel</th>\n",
       "      <th>total_cases</th>\n",
       "      <th>in_travel_per_million</th>\n",
       "    </tr>\n",
       "  </thead>\n",
       "  <tbody>\n",
       "    <tr>\n",
       "      <th>0</th>\n",
       "      <td>Italy</td>\n",
       "      <td>93.000</td>\n",
       "      <td>61.195</td>\n",
       "      <td>N/A</td>\n",
       "      <td>101739</td>\n",
       "      <td>1.538161</td>\n",
       "    </tr>\n",
       "    <tr>\n",
       "      <th>1</th>\n",
       "      <td>Germany</td>\n",
       "      <td>38881.000</td>\n",
       "      <td>N/A</td>\n",
       "      <td>N/A</td>\n",
       "      <td>66885</td>\n",
       "      <td>464.062672</td>\n",
       "    </tr>\n",
       "    <tr>\n",
       "      <th>2</th>\n",
       "      <td>South Korea</td>\n",
       "      <td>15.347</td>\n",
       "      <td>28.696</td>\n",
       "      <td>31.1153</td>\n",
       "      <td>9660</td>\n",
       "      <td>0.299342</td>\n",
       "    </tr>\n",
       "    <tr>\n",
       "      <th>3</th>\n",
       "      <td>India</td>\n",
       "      <td>17423.000</td>\n",
       "      <td>N/A</td>\n",
       "      <td>N/A</td>\n",
       "      <td>1251</td>\n",
       "      <td>12.625322</td>\n",
       "    </tr>\n",
       "    <tr>\n",
       "      <th>4</th>\n",
       "      <td>Mexico</td>\n",
       "      <td>41.313</td>\n",
       "      <td>86.28</td>\n",
       "      <td>Not Reported</td>\n",
       "      <td>993</td>\n",
       "      <td>0.320423</td>\n",
       "    </tr>\n",
       "    <tr>\n",
       "      <th>5</th>\n",
       "      <td>Argentina</td>\n",
       "      <td>6.942</td>\n",
       "      <td>18.41</td>\n",
       "      <td>89.92</td>\n",
       "      <td>820</td>\n",
       "      <td>0.153598</td>\n",
       "    </tr>\n",
       "  </tbody>\n",
       "</table>\n",
       "</div>"
      ],
      "text/plain": [
       "       country  in_travel out_travel domestic_travel  total_cases  \\\n",
       "0        Italy     93.000     61.195             N/A       101739   \n",
       "1      Germany  38881.000        N/A             N/A        66885   \n",
       "2  South Korea     15.347     28.696         31.1153         9660   \n",
       "3        India  17423.000        N/A             N/A         1251   \n",
       "4       Mexico     41.313      86.28    Not Reported          993   \n",
       "5    Argentina      6.942      18.41           89.92          820   \n",
       "\n",
       "   in_travel_per_million  \n",
       "0               1.538161  \n",
       "1             464.062672  \n",
       "2               0.299342  \n",
       "3              12.625322  \n",
       "4               0.320423  \n",
       "5               0.153598  "
      ]
     },
     "execution_count": 4,
     "metadata": {},
     "output_type": "execute_result"
    }
   ],
   "source": [
    "%%bigquery\n",
    "##this is showing how travel affected the 6 countries' total cases\n",
    "SELECT country, In_travels_mill__ AS in_travel, Out_Travels__mill__ AS out_travel, Domestic_Travels__mill__ AS domestic_travel, sum(Daily_cases) AS total_cases, In_travels_mill__/AVG(population) * 1000000 AS in_travel_per_million\n",
    " FROM `ba775-fal22-a11.CountryCovid.6countries` \n",
    " GROUP BY country, In_travels_mill__, Out_Travels__mill__, Domestic_Travels__mill__\n",
    " ORDER BY total_cases DESC;"
   ]
  },
  {
   "cell_type": "markdown",
   "id": "0cdaf2be-3fbf-40f1-bbc4-9b5b9602f601",
   "metadata": {},
   "source": [
    "For this table, we analyzed the in-travel, out-travel, & domestic travel for each of the six countries. When normalized for population by million, it appeared Germany had the most in travel. Consequently, Germany had the second most COVID-19 cases among the six countries.\n",
    "Therefore, we can conclude that since Germany had much travel, that aided in spreading the virus even further and made situations worse for the German public. Hence, the more the travel, the more the virus spreads."
   ]
  },
  {
   "cell_type": "markdown",
   "id": "ba212ea8-9472-4a08-abab-4776eaa83c99",
   "metadata": {},
   "source": [
    "**Medical Resources**"
   ]
  },
  {
   "cell_type": "code",
   "execution_count": 3,
   "id": "06bc2884-1ff7-47e8-9ee5-20f6affca8a3",
   "metadata": {},
   "outputs": [
    {
     "name": "stderr",
     "output_type": "stream",
     "text": [
      "Query complete after 0.00s: 100%|██████████| 3/3 [00:00<00:00, 1855.89query/s]                        \n",
      "Downloading: 100%|██████████| 6/6 [00:01<00:00,  3.09rows/s]\n"
     ]
    },
    {
     "data": {
      "text/html": [
       "<div>\n",
       "<style scoped>\n",
       "    .dataframe tbody tr th:only-of-type {\n",
       "        vertical-align: middle;\n",
       "    }\n",
       "\n",
       "    .dataframe tbody tr th {\n",
       "        vertical-align: top;\n",
       "    }\n",
       "\n",
       "    .dataframe thead th {\n",
       "        text-align: right;\n",
       "    }\n",
       "</style>\n",
       "<table border=\"1\" class=\"dataframe\">\n",
       "  <thead>\n",
       "    <tr style=\"text-align: right;\">\n",
       "      <th></th>\n",
       "      <th>country</th>\n",
       "      <th>Confirmed_Cases_1000</th>\n",
       "      <th>hospital_beds_1000</th>\n",
       "      <th>Available_Beds_1000</th>\n",
       "      <th>bed_per_case</th>\n",
       "    </tr>\n",
       "  </thead>\n",
       "  <tbody>\n",
       "    <tr>\n",
       "      <th>0</th>\n",
       "      <td>Germany</td>\n",
       "      <td>0.798303</td>\n",
       "      <td>8.3</td>\n",
       "      <td>2.075</td>\n",
       "      <td>10.40</td>\n",
       "    </tr>\n",
       "    <tr>\n",
       "      <th>1</th>\n",
       "      <td>Argentina</td>\n",
       "      <td>0.018000</td>\n",
       "      <td>5.0</td>\n",
       "      <td>1.850</td>\n",
       "      <td>277.78</td>\n",
       "    </tr>\n",
       "    <tr>\n",
       "      <th>2</th>\n",
       "      <td>Italy</td>\n",
       "      <td>1.682698</td>\n",
       "      <td>3.4</td>\n",
       "      <td>0.850</td>\n",
       "      <td>2.02</td>\n",
       "    </tr>\n",
       "    <tr>\n",
       "      <th>3</th>\n",
       "      <td>Mexico</td>\n",
       "      <td>0.007702</td>\n",
       "      <td>1.5</td>\n",
       "      <td>0.375</td>\n",
       "      <td>194.76</td>\n",
       "    </tr>\n",
       "    <tr>\n",
       "      <th>4</th>\n",
       "      <td>India</td>\n",
       "      <td>0.000906</td>\n",
       "      <td>0.7</td>\n",
       "      <td>0.175</td>\n",
       "      <td>772.20</td>\n",
       "    </tr>\n",
       "    <tr>\n",
       "      <th>5</th>\n",
       "      <td>South Korea</td>\n",
       "      <td>0.188437</td>\n",
       "      <td>11.5</td>\n",
       "      <td>0.125</td>\n",
       "      <td>61.03</td>\n",
       "    </tr>\n",
       "  </tbody>\n",
       "</table>\n",
       "</div>"
      ],
      "text/plain": [
       "       country  Confirmed_Cases_1000  hospital_beds_1000  Available_Beds_1000  \\\n",
       "0      Germany              0.798303                 8.3                2.075   \n",
       "1    Argentina              0.018000                 5.0                1.850   \n",
       "2        Italy              1.682698                 3.4                0.850   \n",
       "3       Mexico              0.007702                 1.5                0.375   \n",
       "4        India              0.000906                 0.7                0.175   \n",
       "5  South Korea              0.188437                11.5                0.125   \n",
       "\n",
       "   bed_per_case  \n",
       "0         10.40  \n",
       "1        277.78  \n",
       "2          2.02  \n",
       "3        194.76  \n",
       "4        772.20  \n",
       "5         61.03  "
      ]
     },
     "execution_count": 3,
     "metadata": {},
     "output_type": "execute_result"
    }
   ],
   "source": [
    "%%bigquery\n",
    "##compared among Confirmed_Cases_1000, hospital_beds_1000 and Available_Beds_1000\n",
    "SELECT  country,Confirmed_Cases_1000, hospital_beds_1000, Available_Beds_1000,ROUND( hospital_beds_1000/Confirmed_Cases_1000,2) AS bed_per_case\n",
    " FROM `ba775-fal22-a11.CountryCovid.6countries` \n",
    " GROUP BY Date, country, State,Confirmed_Cases_1000, hospital_beds_1000, Available_Beds_1000\n",
    " ORDER BY Date DESC, Available_Beds_1000 DESC\n",
    " LIMIT 6;"
   ]
  },
  {
   "cell_type": "markdown",
   "id": "5d8c26bd-422c-4a06-9bda-fbb89e38e360",
   "metadata": {},
   "source": [
    "India has the highest bed_per_case rate, Argentina placed second, Mexico is third, and Italy has the lowest bed_per_case rate.<br> \n",
    "However, all of these countries have enough beds for every case.<br>\n",
    "In terms of total available beds, Germany placed first with more capacity than the total of South Korea, India, Mexico, and Italy combined. The available beds are directly related to the healthcare conditions in each country and how quickly the healthcare professionals tackle the sudden spike in Covid cases across age groups and regions."
   ]
  },
  {
   "cell_type": "markdown",
   "id": "4539ccbe-1f3c-4cda-952b-412e2c3d6290",
   "metadata": {},
   "source": [
    "### 4. Conclusion\n",
    "\n",
    "\n",
    "\n",
    "Following are the conclusion we have made after analyzing the dataset:\n",
    "\n",
    "1. As the median age increases across a geographical region, the virus's spread also increases significantly. There is a direct correlation between median age & number of cases, which tells us that people in the older age group were more prone to getting infected.\n",
    "\n",
    "2. Life expectancy also seemed to affect the spread of the virus. Males seem more prone to COVID-19 than females, which may be in line with the healthcare facilities provided by the country. Moreover, it is also possible that males were out of their houses more often than females and hence got infected more. \n",
    "\n",
    "3. With temperature, we saw that regions with extreme temperatures tend not to have such a high number of cases. Lower cases in extreme high and low temperatures can be understood since there is not much population in regions with extreme temperatures, so the spread decline was significant.\n",
    "\n",
    "4. While different countries implement various strategies to combat the spread of the virus, the number of confirmed cases is lower in countries with more strict lockdowns. Combined with poor mental health due to social and economic restrictions, we suggest a more tolerant approach is a better strategy.\n",
    "\n",
    "Through this project, we analyzed the role of demographical and geological factors in spreading the pandemic further. More importantly, we can conclude that COVID-19 has severely impacted the healthcare industry because it has increased physical and mental health conditions such as rising fatigue, anxiety, and depression levels in individuals.\n",
    "We aim to emphasize the stable health conditions caused due to the pandemic, especially among the younger generation who spent most of their time locked indoors.\n"
   ]
  },
  {
   "cell_type": "markdown",
   "id": "22fc9893-a148-4bc5-a51a-de7e9a191ddd",
   "metadata": {},
   "source": [
    "### 5. Dashboard\n",
    "\n",
    "\n",
    "<img src=\"https://i.postimg.cc/HWBvdx4X/Screen-Shot-2022-10-18-at-7-46-34-PM.png\" alt=\"Tempvs-Cases\"  height=400 border=\"0\" />"
   ]
  },
  {
   "cell_type": "markdown",
   "id": "239c1c11-7a0e-4361-b7f5-f773318bc95d",
   "metadata": {},
   "source": [
    "https://public.tableau.com/app/profile/jay.chaudhary/viz/ba775-a11-fall22/Dashboard1"
   ]
  },
  {
   "cell_type": "markdown",
   "id": "efebb46c-77e1-41b3-9d43-d275d53ea4b9",
   "metadata": {},
   "source": [
    "The above is our dashborad which shows the various visuals and graphs we used to analyze our datatset"
   ]
  },
  {
   "cell_type": "markdown",
   "id": "fc3aa82d-6255-40fc-9cad-02b40e378f1e",
   "metadata": {
    "tags": []
   },
   "source": [
    "### 6. References"
   ]
  },
  {
   "cell_type": "markdown",
   "id": "a708e839-4c18-4a14-96d3-d608c5ab9c6b",
   "metadata": {},
   "source": [
    "https://www.kaggle.com/datasets/aestheteaman01/covcsd-covid19-countries-statistical-dataset"
   ]
  },
  {
   "cell_type": "markdown",
   "id": "faa0f4dc-b515-4287-b83e-8a61b27ddeec",
   "metadata": {},
   "source": [
    "https://github.com/CSSEGISandData/COVID-19/tree/master/csse_covid_19_data "
   ]
  },
  {
   "cell_type": "markdown",
   "id": "8786dde2-e07a-434c-b0f9-3524800b521f",
   "metadata": {},
   "source": [
    "https://raw.githubusercontent.com/nytimes/covid-19-data/master/us-counties.csv"
   ]
  },
  {
   "cell_type": "markdown",
   "id": "2ad83c05-7da3-44c3-9bf3-e2e69039ee26",
   "metadata": {},
   "source": [
    "https://www.ncei.noaa.gov/access/metadata/landing-page/bin/iso?id=gov.noaa.ncdc:C00516\n",
    "\n",
    "https://www.statista.com/statistics/271315/age-distribution-in-india/\n",
    "\n",
    "https://tradingeconomics.com/mexico/population-ages-65-and-above-percent-of-total-wb-data.html\n",
    "\n",
    "https://www.globaldata.com/data-insights/macroeconomic/argentina-population-distribution-in-by-age/\n",
    "\n",
    "https://knoema.com/atlas/Republic-of-Korea/Population-aged-65-years-and-above\n",
    "\n",
    "https://www.statista.com/statistics/785104/elderly-population-in-italy/\n",
    "\n",
    "https://www.statista.com/statistics/454349/population-by-age-group-germany/"
   ]
  }
 ],
 "metadata": {
  "environment": {
   "kernel": "python3",
   "name": "common-cpu.m97",
   "type": "gcloud",
   "uri": "gcr.io/deeplearning-platform-release/base-cpu:m97"
  },
  "kernelspec": {
   "display_name": "Python 3",
   "language": "python",
   "name": "python3"
  },
  "language_info": {
   "codemirror_mode": {
    "name": "ipython",
    "version": 3
   },
   "file_extension": ".py",
   "mimetype": "text/x-python",
   "name": "python",
   "nbconvert_exporter": "python",
   "pygments_lexer": "ipython3",
   "version": "3.7.12"
  }
 },
 "nbformat": 4,
 "nbformat_minor": 5
}
